{
 "cells": [
  {
   "cell_type": "code",
   "execution_count": 6,
   "id": "6a804297",
   "metadata": {},
   "outputs": [],
   "source": [
    "import os\n",
    "file_path = 'D:/Dinesh/end to end projects/Yelp-JSON/Yelp JSON/yelp_dataset/yelp_academic_dataset_review.json'"
   ]
  },
  {
   "cell_type": "code",
   "execution_count": 11,
   "id": "5344d6e9",
   "metadata": {},
   "outputs": [
    {
     "name": "stdout",
     "output_type": "stream",
     "text": [
      "file size:4.98GB\n"
     ]
    }
   ],
   "source": [
    "size=os.path.getsize(file_path)\n",
    "size_in_gb=size/1024/1024/1024\n",
    "print(f\"file size:{size_in_gb:.2f}GB\")"
   ]
  },
  {
   "cell_type": "code",
   "execution_count": 13,
   "id": "49b8e90e",
   "metadata": {},
   "outputs": [
    {
     "name": "stdout",
     "output_type": "stream",
     "text": [
      "{'review_id': 'KU_O5udG6zpxOg-VcAEodg', 'user_id': 'mh_-eMZ6K5RLWhZyISBhwA', 'business_id': 'XQfwVwDr-v0ZS3_CbbE5Xw', 'stars': 3.0, 'useful': 0, 'funny': 0, 'cool': 0, 'text': \"If you decide to eat here, just be aware it is going to take about 2 hours from beginning to end. We have tried it multiple times, because I want to like it! I have been to it's other locations in NJ and never had a bad experience. \\n\\nThe food is good, but it takes a very long time to come out. The waitstaff is very young, but usually pleasant. We have just had too many experiences where we spent way too long waiting. We usually opt for another diner or restaurant on the weekends, in order to be done quicker.\", 'date': '2018-07-07 22:09:11'}\n",
      "{'review_id': 'BiTunyQ73aT9WBnpR9DZGw', 'user_id': 'OyoGAe7OKpv6SyGZT5g77Q', 'business_id': '7ATYjTIgM3jUlt4UM3IypQ', 'stars': 5.0, 'useful': 1, 'funny': 0, 'cool': 1, 'text': \"I've taken a lot of spin classes over the years, and nothing compares to the classes at Body Cycle. From the nice, clean space and amazing bikes, to the welcoming and motivating instructors, every class is a top notch work out.\\n\\nFor anyone who struggles to fit workouts in, the online scheduling system makes it easy to plan ahead (and there's no need to line up way in advanced like many gyms make you do).\\n\\nThere is no way I can write this review without giving Russell, the owner of Body Cycle, a shout out. Russell's passion for fitness and cycling is so evident, as is his desire for all of his clients to succeed. He is always dropping in to classes to check in/provide encouragement, and is open to ideas and recommendations from anyone. Russell always wears a smile on his face, even when he's kicking your butt in class!\", 'date': '2012-01-03 15:28:18'}\n",
      "{'review_id': 'saUsX_uimxRlCVr67Z4Jig', 'user_id': '8g_iMtfSiwikVnbP2etR0A', 'business_id': 'YjUWPpI6HXG530lwP-fb2A', 'stars': 3.0, 'useful': 0, 'funny': 0, 'cool': 0, 'text': 'Family diner. Had the buffet. Eclectic assortment: a large chicken leg, fried jalapeÃ±o, tamale, two rolled grape leaves, fresh melon. All good. Lots of Mexican choices there. Also has a menu with breakfast served all day long. Friendly, attentive staff. Good place for a casual relaxed meal with no expectations. Next to the Clarion Hotel.', 'date': '2014-02-05 20:30:30'}\n",
      "{'review_id': 'AqPFMleE6RsU23_auESxiA', 'user_id': '_7bHUi9Uuf5__HHc_Q8guQ', 'business_id': 'kxX2SOes4o-D3ZQBkiMRfA', 'stars': 5.0, 'useful': 1, 'funny': 0, 'cool': 1, 'text': \"Wow!  Yummy, different,  delicious.   Our favorite is the lamb curry and korma.  With 10 different kinds of naan!!!  Don't let the outside deter you (because we almost changed our minds)...go in and try something new!   You'll be glad you did!\", 'date': '2015-01-04 00:01:03'}\n",
      "{'review_id': 'Sx8TMOWLNuJBWer-0pcmoA', 'user_id': 'bcjbaE6dDog4jkNY91ncLQ', 'business_id': 'e4Vwtrqf-wpJfwesgvdgxQ', 'stars': 4.0, 'useful': 1, 'funny': 0, 'cool': 1, 'text': \"Cute interior and owner (?) gave us tour of upcoming patio/rooftop area which will be great on beautiful days like today. Cheese curds were very good and very filling. Really like that sandwiches come w salad, esp after eating too many curds! Had the onion, gruyere, tomato sandwich. Wasn't too much cheese which I liked. Needed something else...pepper jelly maybe. Would like to see more menu options added such as salads w fun cheeses. Lots of beer and wine as well as limited cocktails. Next time I will try one of the draft wines.\", 'date': '2017-01-14 20:54:15'}\n"
     ]
    }
   ],
   "source": [
    "import json\n",
    "num_split=25\n",
    "# Read first 5 JSON objects (lines)\n",
    "with open(file_path, 'r') as f:\n",
    "    for i, line in enumerate(f):\n",
    "        if i == 5:\n",
    "            break\n",
    "        try:\n",
    "            record = json.loads(line)\n",
    "            print(record)\n",
    "        except json.JSONDecodeError:\n",
    "            print(f\"Invalid JSON on line {i + 1}\")"
   ]
  },
  {
   "cell_type": "code",
   "execution_count": 17,
   "id": "de254b41",
   "metadata": {},
   "outputs": [
    {
     "name": "stdout",
     "output_type": "stream",
     "text": [
      "6990280\n",
      "279611\n"
     ]
    }
   ],
   "source": [
    "with open(file_path,'r',encoding='utf8') as f:\n",
    "    total_lines = sum(1 for _ in f)\n",
    "\n",
    "lines_per_file=total_lines//num_split\n",
    "print(lines_per_file)"
   ]
  },
  {
   "cell_type": "code",
   "execution_count": 19,
   "id": "f33ceb51",
   "metadata": {},
   "outputs": [
    {
     "name": "stdout",
     "output_type": "stream",
     "text": [
      "total number of lines in file:6990280  Number of lines per split:279611\n"
     ]
    }
   ],
   "source": [
    "print(f'total number of lines in file:{total_lines}  Number of lines per split:{lines_per_file}')"
   ]
  },
  {
   "cell_type": "code",
   "execution_count": 20,
   "id": "7bfda52a",
   "metadata": {},
   "outputs": [
    {
     "name": "stdout",
     "output_type": "stream",
     "text": [
      "C:\\Users\\reach\n"
     ]
    }
   ],
   "source": [
    "print(os.getcwd())"
   ]
  },
  {
   "cell_type": "code",
   "execution_count": 24,
   "id": "c40c644a",
   "metadata": {},
   "outputs": [],
   "source": [
    "with open(file_path,'r',encoding='utf8') as f:\n",
    "    for i in range(num_split):\n",
    "       out_file = f\"split_file_{i+1}.json\"\n",
    "        \n",
    "       with open(out_file ,'w',encoding='utf8') as g:\n",
    "         for j in range(lines_per_file):\n",
    "           line_to_be_loaded = f.readline()\n",
    "           if not line_to_be_loaded:\n",
    "              break;\n",
    "           g.write(line_to_be_loaded)\n",
    "        "
   ]
  },
  {
   "cell_type": "code",
   "execution_count": 31,
   "id": "31262a99",
   "metadata": {},
   "outputs": [
    {
     "name": "stdout",
     "output_type": "stream",
     "text": [
      "number_of_lines in D:/Dinesh/end to end projects\\split_file_1.json is: 279611 and the size is :199.61MB\n",
      "number_of_lines in D:/Dinesh/end to end projects\\split_file_10.json is: 279611 and the size is :209.60MB\n",
      "number_of_lines in D:/Dinesh/end to end projects\\split_file_11.json is: 279611 and the size is :200.84MB\n",
      "number_of_lines in D:/Dinesh/end to end projects\\split_file_12.json is: 279611 and the size is :204.65MB\n",
      "number_of_lines in D:/Dinesh/end to end projects\\split_file_13.json is: 279611 and the size is :206.83MB\n",
      "number_of_lines in D:/Dinesh/end to end projects\\split_file_14.json is: 279611 and the size is :200.58MB\n",
      "number_of_lines in D:/Dinesh/end to end projects\\split_file_15.json is: 279611 and the size is :209.65MB\n",
      "number_of_lines in D:/Dinesh/end to end projects\\split_file_16.json is: 279611 and the size is :199.68MB\n",
      "number_of_lines in D:/Dinesh/end to end projects\\split_file_17.json is: 279611 and the size is :204.05MB\n",
      "number_of_lines in D:/Dinesh/end to end projects\\split_file_18.json is: 279611 and the size is :207.13MB\n",
      "number_of_lines in D:/Dinesh/end to end projects\\split_file_19.json is: 279611 and the size is :199.20MB\n",
      "number_of_lines in D:/Dinesh/end to end projects\\split_file_2.json is: 279611 and the size is :204.10MB\n",
      "number_of_lines in D:/Dinesh/end to end projects\\split_file_20.json is: 279611 and the size is :209.78MB\n",
      "number_of_lines in D:/Dinesh/end to end projects\\split_file_21.json is: 279611 and the size is :198.11MB\n",
      "number_of_lines in D:/Dinesh/end to end projects\\split_file_22.json is: 279611 and the size is :203.42MB\n",
      "number_of_lines in D:/Dinesh/end to end projects\\split_file_23.json is: 279611 and the size is :206.13MB\n",
      "number_of_lines in D:/Dinesh/end to end projects\\split_file_24.json is: 279611 and the size is :200.06MB\n",
      "number_of_lines in D:/Dinesh/end to end projects\\split_file_25.json is: 279611 and the size is :210.31MB\n",
      "number_of_lines in D:/Dinesh/end to end projects\\split_file_3.json is: 279611 and the size is :207.07MB\n",
      "number_of_lines in D:/Dinesh/end to end projects\\split_file_4.json is: 279611 and the size is :200.69MB\n",
      "number_of_lines in D:/Dinesh/end to end projects\\split_file_5.json is: 279611 and the size is :208.49MB\n",
      "number_of_lines in D:/Dinesh/end to end projects\\split_file_6.json is: 279611 and the size is :199.46MB\n",
      "number_of_lines in D:/Dinesh/end to end projects\\split_file_7.json is: 279611 and the size is :202.30MB\n",
      "number_of_lines in D:/Dinesh/end to end projects\\split_file_8.json is: 279611 and the size is :208.46MB\n",
      "number_of_lines in D:/Dinesh/end to end projects\\split_file_9.json is: 279611 and the size is :200.87MB\n"
     ]
    }
   ],
   "source": [
    "import glob\n",
    "files_created = glob.glob('D:/Dinesh/end to end projects/*.json')\n",
    "for i,file in enumerate(files_created):\n",
    "    size_in_mb = os.path.getsize(file)/1024/1024\n",
    "    with open(file,'r',encoding='utf8') as f:\n",
    "         num_lines = sum(1 for _ in f)\n",
    "    print(f\"number_of_lines in {file} is: {num_lines} and the size is :{size_in_mb:.2f}MB\")"
   ]
  },
  {
   "cell_type": "code",
   "execution_count": 33,
   "id": "768b2673",
   "metadata": {},
   "outputs": [
    {
     "name": "stdout",
     "output_type": "stream",
     "text": [
      "Collecting snowflake\n",
      "  Downloading snowflake-1.4.0-py3-none-any.whl (5.6 kB)\n",
      "Collecting snowflake-core==1.4.0\n",
      "  Downloading snowflake_core-1.4.0-py3-none-any.whl (2.0 MB)\n",
      "Collecting snowflake-legacy\n",
      "  Downloading snowflake_legacy-1.0.0-py3-none-any.whl (3.1 kB)\n",
      "Requirement already satisfied: pyyaml in c:\\users\\reach\\anaconda3\\lib\\site-packages (from snowflake-core==1.4.0->snowflake) (6.0)\n",
      "Collecting snowflake-connector-python\n",
      "  Downloading snowflake_connector_python-3.14.1-cp39-cp39-win_amd64.whl (948 kB)\n",
      "Collecting pydantic>=2\n",
      "  Downloading pydantic-2.11.3-py3-none-any.whl (443 kB)\n",
      "Requirement already satisfied: python-dateutil>=2.8.2 in c:\\users\\reach\\anaconda3\\lib\\site-packages (from snowflake-core==1.4.0->snowflake) (2.8.2)\n",
      "Requirement already satisfied: requests in c:\\users\\reach\\anaconda3\\lib\\site-packages (from snowflake-core==1.4.0->snowflake) (2.27.1)\n",
      "Requirement already satisfied: urllib3 in c:\\users\\reach\\anaconda3\\lib\\site-packages (from snowflake-core==1.4.0->snowflake) (1.26.9)\n",
      "Collecting typing-extensions>=4.12.2\n",
      "  Downloading typing_extensions-4.13.2-py3-none-any.whl (45 kB)\n",
      "Collecting annotated-types>=0.6.0\n",
      "  Downloading annotated_types-0.7.0-py3-none-any.whl (13 kB)\n",
      "Collecting typing-inspection>=0.4.0\n",
      "  Downloading typing_inspection-0.4.0-py3-none-any.whl (14 kB)\n",
      "Collecting pydantic-core==2.33.1\n",
      "  Downloading pydantic_core-2.33.1-cp39-cp39-win_amd64.whl (2.0 MB)\n",
      "Requirement already satisfied: six>=1.5 in c:\\users\\reach\\anaconda3\\lib\\site-packages (from python-dateutil>=2.8.2->snowflake-core==1.4.0->snowflake) (1.16.0)\n",
      "Requirement already satisfied: charset-normalizer~=2.0.0 in c:\\users\\reach\\anaconda3\\lib\\site-packages (from requests->snowflake-core==1.4.0->snowflake) (2.0.4)\n",
      "Requirement already satisfied: certifi>=2017.4.17 in c:\\users\\reach\\anaconda3\\lib\\site-packages (from requests->snowflake-core==1.4.0->snowflake) (2021.10.8)\n",
      "Requirement already satisfied: idna<4,>=2.5 in c:\\users\\reach\\anaconda3\\lib\\site-packages (from requests->snowflake-core==1.4.0->snowflake) (3.3)\n",
      "Requirement already satisfied: boto3>=1.0 in c:\\users\\reach\\anaconda3\\lib\\site-packages (from snowflake-connector-python->snowflake-core==1.4.0->snowflake) (1.21.32)\n",
      "Requirement already satisfied: filelock<4,>=3.5 in c:\\users\\reach\\anaconda3\\lib\\site-packages (from snowflake-connector-python->snowflake-core==1.4.0->snowflake) (3.6.0)\n",
      "Requirement already satisfied: cffi<2.0.0,>=1.9 in c:\\users\\reach\\anaconda3\\lib\\site-packages (from snowflake-connector-python->snowflake-core==1.4.0->snowflake) (1.15.0)\n",
      "Requirement already satisfied: cryptography>=3.1.0 in c:\\users\\reach\\anaconda3\\lib\\site-packages (from snowflake-connector-python->snowflake-core==1.4.0->snowflake) (3.4.8)\n",
      "Requirement already satisfied: pyjwt<3.0.0 in c:\\users\\reach\\anaconda3\\lib\\site-packages (from snowflake-connector-python->snowflake-core==1.4.0->snowflake) (2.1.0)\n",
      "Collecting pyOpenSSL<26.0.0,>=22.0.0\n",
      "  Downloading pyOpenSSL-25.0.0-py3-none-any.whl (56 kB)\n",
      "Collecting asn1crypto<2.0.0,>0.24.0\n",
      "  Downloading asn1crypto-1.5.1-py2.py3-none-any.whl (105 kB)\n",
      "Requirement already satisfied: pytz in c:\\users\\reach\\anaconda3\\lib\\site-packages (from snowflake-connector-python->snowflake-core==1.4.0->snowflake) (2021.3)\n",
      "Requirement already satisfied: sortedcontainers>=2.4.0 in c:\\users\\reach\\anaconda3\\lib\\site-packages (from snowflake-connector-python->snowflake-core==1.4.0->snowflake) (2.4.0)\n",
      "Requirement already satisfied: botocore>=1.0 in c:\\users\\reach\\anaconda3\\lib\\site-packages (from snowflake-connector-python->snowflake-core==1.4.0->snowflake) (1.24.32)\n",
      "Requirement already satisfied: packaging in c:\\users\\reach\\anaconda3\\lib\\site-packages (from snowflake-connector-python->snowflake-core==1.4.0->snowflake) (21.3)\n",
      "Collecting tomlkit\n",
      "  Downloading tomlkit-0.13.2-py3-none-any.whl (37 kB)\n",
      "Collecting platformdirs<5.0.0,>=2.6.0\n",
      "  Downloading platformdirs-4.3.7-py3-none-any.whl (18 kB)\n",
      "Requirement already satisfied: jmespath<2.0.0,>=0.7.1 in c:\\users\\reach\\anaconda3\\lib\\site-packages (from boto3>=1.0->snowflake-connector-python->snowflake-core==1.4.0->snowflake) (0.10.0)\n",
      "Requirement already satisfied: s3transfer<0.6.0,>=0.5.0 in c:\\users\\reach\\anaconda3\\lib\\site-packages (from boto3>=1.0->snowflake-connector-python->snowflake-core==1.4.0->snowflake) (0.5.0)\n",
      "Requirement already satisfied: pycparser in c:\\users\\reach\\anaconda3\\lib\\site-packages (from cffi<2.0.0,>=1.9->snowflake-connector-python->snowflake-core==1.4.0->snowflake) (2.21)\n",
      "Collecting cryptography>=3.1.0\n",
      "  Downloading cryptography-44.0.2-cp39-abi3-win_amd64.whl (3.2 MB)\n",
      "Requirement already satisfied: pyparsing!=3.0.5,>=2.0.2 in c:\\users\\reach\\anaconda3\\lib\\site-packages (from packaging->snowflake-connector-python->snowflake-core==1.4.0->snowflake) (3.0.4)\n",
      "Installing collected packages: typing-extensions, cryptography, typing-inspection, tomlkit, pyOpenSSL, pydantic-core, platformdirs, asn1crypto, annotated-types, snowflake-connector-python, pydantic, snowflake-legacy, snowflake-core, snowflake\n",
      "  Attempting uninstall: typing-extensions\n",
      "    Found existing installation: typing-extensions 4.1.1\n",
      "    Uninstalling typing-extensions-4.1.1:\n",
      "      Successfully uninstalled typing-extensions-4.1.1\n",
      "  Attempting uninstall: cryptography\n",
      "    Found existing installation: cryptography 3.4.8\n",
      "    Uninstalling cryptography-3.4.8:\n",
      "      Successfully uninstalled cryptography-3.4.8\n",
      "  Attempting uninstall: pyOpenSSL\n",
      "    Found existing installation: pyOpenSSL 21.0.0\n",
      "    Uninstalling pyOpenSSL-21.0.0:\n",
      "      Successfully uninstalled pyOpenSSL-21.0.0\n",
      "Successfully installed annotated-types-0.7.0 asn1crypto-1.5.1 cryptography-44.0.2 platformdirs-4.3.7 pyOpenSSL-25.0.0 pydantic-2.11.3 pydantic-core-2.33.1 snowflake-1.4.0 snowflake-connector-python-3.14.1 snowflake-core-1.4.0 snowflake-legacy-1.0.0 tomlkit-0.13.2 typing-extensions-4.13.2 typing-inspection-0.4.0\n",
      "Note: you may need to restart the kernel to use updated packages.\n"
     ]
    }
   ],
   "source": [
    "pip install snowflake"
   ]
  },
  {
   "cell_type": "code",
   "execution_count": 38,
   "id": "89caa58a",
   "metadata": {},
   "outputs": [
    {
     "ename": "ProgrammingError",
     "evalue": "002003 (02000): SQL compilation error:\nStage 'LEARNDATAENG.PUBLIC.ORDERS' does not exist or not authorized.",
     "output_type": "error",
     "traceback": [
      "\u001b[1;31m---------------------------------------------------------------------------\u001b[0m",
      "\u001b[1;31mProgrammingError\u001b[0m                          Traceback (most recent call last)",
      "Input \u001b[1;32mIn [38]\u001b[0m, in \u001b[0;36m<cell line: 15>\u001b[1;34m()\u001b[0m\n\u001b[0;32m     13\u001b[0m \u001b[38;5;66;03m# Upload the file to the table stage\u001b[39;00m\n\u001b[0;32m     14\u001b[0m cur \u001b[38;5;241m=\u001b[39m conn\u001b[38;5;241m.\u001b[39mcursor()\n\u001b[1;32m---> 15\u001b[0m \u001b[43mcur\u001b[49m\u001b[38;5;241;43m.\u001b[39;49m\u001b[43mexecute\u001b[49m\u001b[43m(\u001b[49m\u001b[38;5;124;43m\"\u001b[39;49m\u001b[38;5;124;43mPUT file://Downloads/ordersDataSnwflk.csv @orders\u001b[39;49m\u001b[38;5;124;43m\"\u001b[39;49m\u001b[43m)\u001b[49m\n\u001b[0;32m     17\u001b[0m \u001b[38;5;28mprint\u001b[39m(\u001b[38;5;124m\"\u001b[39m\u001b[38;5;124mUpload complete.\u001b[39m\u001b[38;5;124m\"\u001b[39m)\n",
      "File \u001b[1;32m~\\anaconda3\\lib\\site-packages\\snowflake\\connector\\cursor.py:1134\u001b[0m, in \u001b[0;36mSnowflakeCursor.execute\u001b[1;34m(self, command, params, _bind_stage, timeout, _exec_async, _no_retry, _do_reset, _put_callback, _put_azure_callback, _put_callback_output_stream, _get_callback, _get_azure_callback, _get_callback_output_stream, _show_progress_bar, _statement_params, _is_internal, _describe_only, _no_results, _is_put_get, _raise_put_get_error, _force_put_overwrite, _skip_upload_on_content_match, file_stream, num_statements, _force_qmark_paramstyle, _dataframe_ast)\u001b[0m\n\u001b[0;32m   1130\u001b[0m     is_integrity_error \u001b[38;5;241m=\u001b[39m (\n\u001b[0;32m   1131\u001b[0m         code \u001b[38;5;241m==\u001b[39m \u001b[38;5;124m\"\u001b[39m\u001b[38;5;124m100072\u001b[39m\u001b[38;5;124m\"\u001b[39m\n\u001b[0;32m   1132\u001b[0m     )  \u001b[38;5;66;03m# NULL result in a non-nullable column\u001b[39;00m\n\u001b[0;32m   1133\u001b[0m     error_class \u001b[38;5;241m=\u001b[39m IntegrityError \u001b[38;5;28;01mif\u001b[39;00m is_integrity_error \u001b[38;5;28;01melse\u001b[39;00m ProgrammingError\n\u001b[1;32m-> 1134\u001b[0m     \u001b[43mError\u001b[49m\u001b[38;5;241;43m.\u001b[39;49m\u001b[43merrorhandler_wrapper\u001b[49m\u001b[43m(\u001b[49m\u001b[38;5;28;43mself\u001b[39;49m\u001b[38;5;241;43m.\u001b[39;49m\u001b[43mconnection\u001b[49m\u001b[43m,\u001b[49m\u001b[43m \u001b[49m\u001b[38;5;28;43mself\u001b[39;49m\u001b[43m,\u001b[49m\u001b[43m \u001b[49m\u001b[43merror_class\u001b[49m\u001b[43m,\u001b[49m\u001b[43m \u001b[49m\u001b[43merrvalue\u001b[49m\u001b[43m)\u001b[49m\n\u001b[0;32m   1135\u001b[0m \u001b[38;5;28;01mreturn\u001b[39;00m \u001b[38;5;28mself\u001b[39m\n",
      "File \u001b[1;32m~\\anaconda3\\lib\\site-packages\\snowflake\\connector\\errors.py:279\u001b[0m, in \u001b[0;36mError.errorhandler_wrapper\u001b[1;34m(connection, cursor, error_class, error_value)\u001b[0m\n\u001b[0;32m    256\u001b[0m \u001b[38;5;129m@staticmethod\u001b[39m\n\u001b[0;32m    257\u001b[0m \u001b[38;5;28;01mdef\u001b[39;00m \u001b[38;5;21merrorhandler_wrapper\u001b[39m(\n\u001b[0;32m    258\u001b[0m     connection: SnowflakeConnection \u001b[38;5;241m|\u001b[39m \u001b[38;5;28;01mNone\u001b[39;00m,\n\u001b[1;32m   (...)\u001b[0m\n\u001b[0;32m    261\u001b[0m     error_value: \u001b[38;5;28mdict\u001b[39m[\u001b[38;5;28mstr\u001b[39m, Any],\n\u001b[0;32m    262\u001b[0m ) \u001b[38;5;241m-\u001b[39m\u001b[38;5;241m>\u001b[39m \u001b[38;5;28;01mNone\u001b[39;00m:\n\u001b[0;32m    263\u001b[0m     \u001b[38;5;124;03m\"\"\"Error handler wrapper that calls the errorhandler method.\u001b[39;00m\n\u001b[0;32m    264\u001b[0m \n\u001b[0;32m    265\u001b[0m \u001b[38;5;124;03m    Args:\u001b[39;00m\n\u001b[1;32m   (...)\u001b[0m\n\u001b[0;32m    276\u001b[0m \u001b[38;5;124;03m        exception to the first handler in that order.\u001b[39;00m\n\u001b[0;32m    277\u001b[0m \u001b[38;5;124;03m    \"\"\"\u001b[39;00m\n\u001b[1;32m--> 279\u001b[0m     handed_over \u001b[38;5;241m=\u001b[39m \u001b[43mError\u001b[49m\u001b[38;5;241;43m.\u001b[39;49m\u001b[43mhand_to_other_handler\u001b[49m\u001b[43m(\u001b[49m\n\u001b[0;32m    280\u001b[0m \u001b[43m        \u001b[49m\u001b[43mconnection\u001b[49m\u001b[43m,\u001b[49m\n\u001b[0;32m    281\u001b[0m \u001b[43m        \u001b[49m\u001b[43mcursor\u001b[49m\u001b[43m,\u001b[49m\n\u001b[0;32m    282\u001b[0m \u001b[43m        \u001b[49m\u001b[43merror_class\u001b[49m\u001b[43m,\u001b[49m\n\u001b[0;32m    283\u001b[0m \u001b[43m        \u001b[49m\u001b[43merror_value\u001b[49m\u001b[43m,\u001b[49m\n\u001b[0;32m    284\u001b[0m \u001b[43m    \u001b[49m\u001b[43m)\u001b[49m\n\u001b[0;32m    285\u001b[0m     \u001b[38;5;28;01mif\u001b[39;00m \u001b[38;5;129;01mnot\u001b[39;00m handed_over:\n\u001b[0;32m    286\u001b[0m         \u001b[38;5;28;01mraise\u001b[39;00m Error\u001b[38;5;241m.\u001b[39merrorhandler_make_exception(\n\u001b[0;32m    287\u001b[0m             error_class,\n\u001b[0;32m    288\u001b[0m             error_value,\n\u001b[0;32m    289\u001b[0m         )\n",
      "File \u001b[1;32m~\\anaconda3\\lib\\site-packages\\snowflake\\connector\\errors.py:334\u001b[0m, in \u001b[0;36mError.hand_to_other_handler\u001b[1;34m(connection, cursor, error_class, error_value)\u001b[0m\n\u001b[0;32m    332\u001b[0m \u001b[38;5;28;01mif\u001b[39;00m cursor \u001b[38;5;129;01mis\u001b[39;00m \u001b[38;5;129;01mnot\u001b[39;00m \u001b[38;5;28;01mNone\u001b[39;00m:\n\u001b[0;32m    333\u001b[0m     cursor\u001b[38;5;241m.\u001b[39mmessages\u001b[38;5;241m.\u001b[39mappend((error_class, error_value))\n\u001b[1;32m--> 334\u001b[0m     \u001b[43mcursor\u001b[49m\u001b[38;5;241;43m.\u001b[39;49m\u001b[43merrorhandler\u001b[49m\u001b[43m(\u001b[49m\u001b[43mconnection\u001b[49m\u001b[43m,\u001b[49m\u001b[43m \u001b[49m\u001b[43mcursor\u001b[49m\u001b[43m,\u001b[49m\u001b[43m \u001b[49m\u001b[43merror_class\u001b[49m\u001b[43m,\u001b[49m\u001b[43m \u001b[49m\u001b[43merror_value\u001b[49m\u001b[43m)\u001b[49m\n\u001b[0;32m    335\u001b[0m     \u001b[38;5;28;01mreturn\u001b[39;00m \u001b[38;5;28;01mTrue\u001b[39;00m\n\u001b[0;32m    336\u001b[0m \u001b[38;5;28;01melif\u001b[39;00m connection \u001b[38;5;129;01mis\u001b[39;00m \u001b[38;5;129;01mnot\u001b[39;00m \u001b[38;5;28;01mNone\u001b[39;00m:\n",
      "File \u001b[1;32m~\\anaconda3\\lib\\site-packages\\snowflake\\connector\\errors.py:210\u001b[0m, in \u001b[0;36mError.default_errorhandler\u001b[1;34m(connection, cursor, error_class, error_value)\u001b[0m\n\u001b[0;32m    208\u001b[0m errno \u001b[38;5;241m=\u001b[39m error_value\u001b[38;5;241m.\u001b[39mget(\u001b[38;5;124m\"\u001b[39m\u001b[38;5;124merrno\u001b[39m\u001b[38;5;124m\"\u001b[39m)\n\u001b[0;32m    209\u001b[0m done_format_msg \u001b[38;5;241m=\u001b[39m error_value\u001b[38;5;241m.\u001b[39mget(\u001b[38;5;124m\"\u001b[39m\u001b[38;5;124mdone_format_msg\u001b[39m\u001b[38;5;124m\"\u001b[39m)\n\u001b[1;32m--> 210\u001b[0m \u001b[38;5;28;01mraise\u001b[39;00m error_class(\n\u001b[0;32m    211\u001b[0m     msg\u001b[38;5;241m=\u001b[39merror_value\u001b[38;5;241m.\u001b[39mget(\u001b[38;5;124m\"\u001b[39m\u001b[38;5;124mmsg\u001b[39m\u001b[38;5;124m\"\u001b[39m),\n\u001b[0;32m    212\u001b[0m     errno\u001b[38;5;241m=\u001b[39m\u001b[38;5;28;01mNone\u001b[39;00m \u001b[38;5;28;01mif\u001b[39;00m errno \u001b[38;5;129;01mis\u001b[39;00m \u001b[38;5;28;01mNone\u001b[39;00m \u001b[38;5;28;01melse\u001b[39;00m \u001b[38;5;28mint\u001b[39m(errno),\n\u001b[0;32m    213\u001b[0m     sqlstate\u001b[38;5;241m=\u001b[39merror_value\u001b[38;5;241m.\u001b[39mget(\u001b[38;5;124m\"\u001b[39m\u001b[38;5;124msqlstate\u001b[39m\u001b[38;5;124m\"\u001b[39m),\n\u001b[0;32m    214\u001b[0m     sfqid\u001b[38;5;241m=\u001b[39merror_value\u001b[38;5;241m.\u001b[39mget(\u001b[38;5;124m\"\u001b[39m\u001b[38;5;124msfqid\u001b[39m\u001b[38;5;124m\"\u001b[39m),\n\u001b[0;32m    215\u001b[0m     query\u001b[38;5;241m=\u001b[39merror_value\u001b[38;5;241m.\u001b[39mget(\u001b[38;5;124m\"\u001b[39m\u001b[38;5;124mquery\u001b[39m\u001b[38;5;124m\"\u001b[39m),\n\u001b[0;32m    216\u001b[0m     done_format_msg\u001b[38;5;241m=\u001b[39m(\n\u001b[0;32m    217\u001b[0m         \u001b[38;5;28;01mNone\u001b[39;00m \u001b[38;5;28;01mif\u001b[39;00m done_format_msg \u001b[38;5;129;01mis\u001b[39;00m \u001b[38;5;28;01mNone\u001b[39;00m \u001b[38;5;28;01melse\u001b[39;00m \u001b[38;5;28mbool\u001b[39m(done_format_msg)\n\u001b[0;32m    218\u001b[0m     ),\n\u001b[0;32m    219\u001b[0m     connection\u001b[38;5;241m=\u001b[39mconnection,\n\u001b[0;32m    220\u001b[0m     cursor\u001b[38;5;241m=\u001b[39mcursor,\n\u001b[0;32m    221\u001b[0m )\n",
      "\u001b[1;31mProgrammingError\u001b[0m: 002003 (02000): SQL compilation error:\nStage 'LEARNDATAENG.PUBLIC.ORDERS' does not exist or not authorized."
     ]
    }
   ],
   "source": []
  },
  {
   "cell_type": "code",
   "execution_count": null,
   "id": "a6127524",
   "metadata": {},
   "outputs": [],
   "source": []
  }
 ],
 "metadata": {
  "kernelspec": {
   "display_name": "Python 3 (ipykernel)",
   "language": "python",
   "name": "python3"
  },
  "language_info": {
   "codemirror_mode": {
    "name": "ipython",
    "version": 3
   },
   "file_extension": ".py",
   "mimetype": "text/x-python",
   "name": "python",
   "nbconvert_exporter": "python",
   "pygments_lexer": "ipython3",
   "version": "3.9.12"
  }
 },
 "nbformat": 4,
 "nbformat_minor": 5
}
